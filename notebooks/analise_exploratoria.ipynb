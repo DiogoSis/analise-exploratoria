{
 "cells": [
  {
   "cell_type": "code",
   "execution_count": null,
   "metadata": {},
   "outputs": [],
   "source": [
    "%pip install matplotlib seaborn pandas\n",
    "\n",
    "import pandas as pd\n",
    "import matplotlib.pyplot as plt\n",
    "import seaborn as sns\n",
    "import ast"
   ]
  },
  {
   "cell_type": "code",
   "execution_count": 86,
   "metadata": {},
   "outputs": [],
   "source": [
    "sns.set(style=\"whitegrid\")\n",
    "plt.rcParams[\"figure.figsize\"] = (12, 6)"
   ]
  },
  {
   "cell_type": "code",
   "execution_count": 87,
   "metadata": {},
   "outputs": [],
   "source": [
    "alunos_df = pd.read_csv(\"/home/diogo/Documentos/estacio/analise-de-dados/dados/alunos.csv\")\n",
    "responsaveis_df = pd.read_csv(\"/home/diogo/Documentos/estacio/analise-de-dados/dados/responsavel.csv\")"
   ]
  },
  {
   "cell_type": "code",
   "execution_count": null,
   "metadata": {},
   "outputs": [],
   "source": [
    "# Exibe uma prévia dos dados\n",
    "\n",
    "print (\"Previa dos dados dos alunos: \")\n",
    "display(alunos_df.head())\n",
    "\n",
    "print(\"Prévia dos dados dos responsáveis: \")\n",
    "display(responsaveis_df.head())"
   ]
  },
  {
   "cell_type": "code",
   "execution_count": null,
   "metadata": {},
   "outputs": [],
   "source": [
    "# Converter a coluna 'responsavel_por' de string para listas\n",
    "responsaveis_df[\"responsavel_por\"] = responsaveis_df[\"responsavel_por\"].apply(ast.literal_eval)\n",
    "\n",
    "# Expandir a coluna 'responsavel_por' para criar uma relação 1-para-1 entre responsáveis e IDs de alunos\n",
    "responsaveis_expandido = responsaveis_df.explode(\"responsavel_por\").rename(columns={\"responsavel_por\": \"id_aluno\"})\n",
    "\n",
    "# Realizar o merge entre os DataFrames usando o 'id' do aluno\n",
    "dados_combinados = pd.merge(\n",
    "    alunos_df,\n",
    "    responsaveis_expandido,\n",
    "    left_on=\"id\",          # ID do aluno no DataFrame de alunos\n",
    "    right_on=\"id_aluno\"    # ID do aluno no DataFrame expandido de responsáveis\n",
    ")\n",
    "\n",
    "# Exibir os dados combinados\n",
    "print(\"Dados combinados:\")\n",
    "display(dados_combinados.head())"
   ]
  },
  {
   "cell_type": "code",
   "execution_count": null,
   "metadata": {},
   "outputs": [],
   "source": [
    "# Criação do histograma de idades\n",
    "plt.figure(figsize=(10, 6))\n",
    "sns.histplot(alunos_df[\"idade\"], bins=10, kde=True, color=\"blue\")\n",
    "plt.title(\"Distribuição de Idades dos Alunos\")\n",
    "plt.xlabel(\"Idade\")\n",
    "plt.ylabel(\"Frequência\")\n",
    "plt.show()\n",
    "\n",
    "# Contagem de graduados por faixa\n",
    "graduacao_counts = alunos_df[\"graduacao\"].value_counts()\n",
    "\n",
    "# Gráfico de barras para proporção de graduados\n",
    "plt.figure(figsize=(10, 6))\n",
    "sns.barplot(x=graduacao_counts.index, y=graduacao_counts.values, palette=\"viridis\")\n",
    "plt.title(\"Proporção de Alunos por Graduação\")\n",
    "plt.xlabel(\"Graduação\")\n",
    "plt.ylabel(\"Quantidade\")\n",
    "plt.show()\n",
    "\n",
    "# Cálculo do número de alunos por responsável\n",
    "responsaveis_df[\"quantidade_alunos\"] = responsaveis_df[\"responsavel_por\"].apply(len)\n",
    "\n",
    "# Gráfico de dispersão: Número de alunos x Média Salarial\n",
    "plt.figure(figsize=(10, 6))\n",
    "sns.scatterplot(data=responsaveis_df, x=\"quantidade_alunos\", y=\"media_salarial\", hue=\"mora_no_bairro\", palette=\"cool\")\n",
    "plt.title(\"Relação entre Número de Alunos e Média Salarial\")\n",
    "plt.xlabel(\"Número de Alunos\")\n",
    "plt.ylabel(\"Média Salarial\")\n",
    "plt.legend(title=\"Mora no Bairro\", loc=\"upper right\")\n",
    "plt.show()\n",
    "\n",
    "# Estatísticas descritivas com informações adicionais\n",
    "print(\"\\nEstatísticas descritivas dos responsáveis:\")\n",
    "display(responsaveis_df[[\"media_salarial\", \"quantidade_alunos\"]].describe())"
   ]
  },
  {
   "cell_type": "code",
   "execution_count": null,
   "metadata": {},
   "outputs": [],
   "source": [
    "# Análise combinada: cálculo de idade média e média salarial por responsável\n",
    "analise_df = dados_combinados.groupby(\"id_y\").agg({\n",
    "    \"idade\": \"mean\",          # Idade média dos alunos\n",
    "    \"media_salarial\": \"first\" # Média salarial (não muda por responsável)\n",
    "}).reset_index()\n",
    "\n",
    "# Renomeia colunas para clareza\n",
    "analise_df.rename(columns={\"idade\": \"idade_media_alunos\", \"media_salarial\": \"media_salarial_responsavel\"}, inplace=True)\n",
    "\n",
    "# Exibição da análise combinada\n",
    "print(\"Prévia da análise combinada:\")\n",
    "display(analise_df.head())\n",
    "\n",
    "# Gráfico de dispersão: Idade Média dos Alunos x Média Salarial dos Responsáveis\n",
    "plt.figure(figsize=(10, 6))\n",
    "sns.scatterplot(\n",
    "    data=analise_df,\n",
    "    x=\"idade_media_alunos\",\n",
    "    y=\"media_salarial_responsavel\",\n",
    "    hue=\"idade_media_alunos\",\n",
    "    palette=\"cool\"\n",
    ")\n",
    "plt.title(\"Relação entre Idade Média dos Alunos e Média Salarial dos Responsáveis\")\n",
    "plt.xlabel(\"Idade Média dos Alunos\")\n",
    "plt.ylabel(\"Média Salarial dos Responsáveis\")\n",
    "plt.show()"
   ]
  }
 ],
 "metadata": {
  "kernelspec": {
   "display_name": "venv",
   "language": "python",
   "name": "python3"
  },
  "language_info": {
   "codemirror_mode": {
    "name": "ipython",
    "version": 3
   },
   "file_extension": ".py",
   "mimetype": "text/x-python",
   "name": "python",
   "nbconvert_exporter": "python",
   "pygments_lexer": "ipython3",
   "version": "3.11.2"
  }
 },
 "nbformat": 4,
 "nbformat_minor": 2
}
